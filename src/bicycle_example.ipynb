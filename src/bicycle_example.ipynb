{
 "metadata": {
  "name": ""
 },
 "nbformat": 3,
 "nbformat_minor": 0,
 "worksheets": [
  {
   "cells": [
    {
     "cell_type": "code",
     "collapsed": false,
     "input": [
      "import sympy as sym\n",
      "import sympy.physics.mechanics as me"
     ],
     "language": "python",
     "metadata": {},
     "outputs": [],
     "prompt_number": 19
    },
    {
     "cell_type": "code",
     "collapsed": false,
     "input": [
      "sym.init_printing()"
     ],
     "language": "python",
     "metadata": {},
     "outputs": [],
     "prompt_number": 20
    },
    {
     "cell_type": "code",
     "collapsed": false,
     "input": [
      "sym.__version__"
     ],
     "language": "python",
     "metadata": {},
     "outputs": [
      {
       "metadata": {},
       "output_type": "pyout",
       "prompt_number": 21,
       "text": [
        "'0.7.3'"
       ]
      }
     ],
     "prompt_number": 21
    },
    {
     "cell_type": "markdown",
     "metadata": {},
     "source": [
      "We first configure the rider"
     ]
    },
    {
     "cell_type": "code",
     "collapsed": false,
     "input": [
      "yeadon_rf = me.ReferenceFrame('Y')"
     ],
     "language": "python",
     "metadata": {},
     "outputs": [],
     "prompt_number": 22
    },
    {
     "cell_type": "markdown",
     "metadata": {},
     "source": [
      "The pelvis, $P$, torse, $T$, and chest, $C$ segements in Yeadon's model are assumed to be fixed relative to each other. The pelvis is the rotated forward through a sommersault angle such that the rider's trunk ($P,T,C$) is hunched over with respect to the bicycle."
     ]
    },
    {
     "cell_type": "code",
     "collapsed": false,
     "input": [
      "sommersault = sym.symbols('sommersault')"
     ],
     "language": "python",
     "metadata": {},
     "outputs": [],
     "prompt_number": 23
    },
    {
     "cell_type": "code",
     "collapsed": false,
     "input": [
      "pelvis = yeadon_rf.orientnew('P', 'Axis', (sommersault, yeadon_rf.y))"
     ],
     "language": "python",
     "metadata": {},
     "outputs": [],
     "prompt_number": 24
    },
    {
     "cell_type": "markdown",
     "metadata": {},
     "source": [
      "The legs are assumed to flex at the hip and the knee such that the heel, $Lj6$ and $Lj7$, are aligned with the center of the bottom bracket. Note that there is no hip abduction, so the heels are the same distance from the sagittal plane as the hip centers are. The elevation and flexion angles of the hip and knee can be computed by enforcing the kinematic constraint."
     ]
    },
    {
     "cell_type": "code",
     "collapsed": false,
     "input": [
      "PJ1elevation, J1J2flexion = sym.symbols('PJ1elevation, J1J2flexion')"
     ],
     "language": "python",
     "metadata": {},
     "outputs": [],
     "prompt_number": 25
    },
    {
     "cell_type": "code",
     "collapsed": false,
     "input": [
      "J1 = pelvis.orientnew('PJ1', 'Axis', (PJ1elevation, pelvis.x))\n",
      "J2 = J1.orientnew('J1J2', 'Axis', (J1J2flexion, J1.x))"
     ],
     "language": "python",
     "metadata": {},
     "outputs": [],
     "prompt_number": 26
    },
    {
     "cell_type": "markdown",
     "metadata": {},
     "source": [
      "The origin of the Yeadon model is at the base of pelvis and we assume that that is coicident with the seat point."
     ]
    },
    {
     "cell_type": "code",
     "collapsed": false,
     "input": [
      "origin = me.Point('O')"
     ],
     "language": "python",
     "metadata": {},
     "outputs": [],
     "prompt_number": 27
    },
    {
     "cell_type": "markdown",
     "metadata": {},
     "source": [
      "The location from the origin to the bottom bracket can be described by the geometrical measurements:\n",
      "\n",
      "- $\\lambda_{st}$: seat tube angle\n",
      "- $l_{st}$: seat tube length\n",
      "- $l_{sp}$: seat post length"
     ]
    },
    {
     "cell_type": "code",
     "collapsed": false,
     "input": [
      "lst, lsp, lambdast = sym.symbols('lst, lsp, lambdast')"
     ],
     "language": "python",
     "metadata": {},
     "outputs": [],
     "prompt_number": 28
    },
    {
     "cell_type": "code",
     "collapsed": false,
     "input": [
      "bottom_bracket = origin.locatenew('B', -(lst + lsp) * (sym.cos(lambdast) * yeadon_rf.y + sym.sin(lambdast) * yeadon_rf.z))"
     ],
     "language": "python",
     "metadata": {},
     "outputs": [],
     "prompt_number": 29
    },
    {
     "cell_type": "markdown",
     "metadata": {},
     "source": [
      "The heel center is located with respect to the origin by using measurements from the Yeadon model."
     ]
    },
    {
     "cell_type": "code",
     "collapsed": false,
     "input": [
      "Lj3L, LJ6L = sym.symbols('Lj3L, Lj6L')"
     ],
     "language": "python",
     "metadata": {},
     "outputs": [],
     "prompt_number": 30
    },
    {
     "cell_type": "code",
     "collapsed": false,
     "input": [
      "heel = origin.locatenew('H', -Lj3L * J1.z - (LJ6L - Lj3L) * J2.z)"
     ],
     "language": "python",
     "metadata": {},
     "outputs": [],
     "prompt_number": 31
    },
    {
     "cell_type": "markdown",
     "metadata": {},
     "source": [
      "The hip elevation and knee flexion can be found by equating the heel and bottom bracket vectors, giving two non-linear equations and two uknowns."
     ]
    },
    {
     "cell_type": "code",
     "collapsed": false,
     "input": [
      "zero = bottom_bracket.pos_from(heel)\n",
      "zerox = me.dot(zero, yeadon_rf.y)\n",
      "zeroy = me.dot(zero, yeadon_rf.z)"
     ],
     "language": "python",
     "metadata": {},
     "outputs": [],
     "prompt_number": 33
    },
    {
     "cell_type": "code",
     "collapsed": false,
     "input": [
      "zerox"
     ],
     "language": "python",
     "metadata": {},
     "outputs": [
      {
       "latex": [
        "$$- Lj3L \\sin{\\left (PJ1elevation \\right )} + \\left(- Lj3L + Lj6L\\right) \\left(- \\sin{\\left (J1J2flexion \\right )} \\cos{\\left (PJ1elevation \\right )} - \\sin{\\left (PJ1elevation \\right )} \\cos{\\left (J1J2flexion \\right )}\\right) + \\left(- lsp - lst\\right) \\cos{\\left (lambdast \\right )}$$"
       ],
       "metadata": {},
       "output_type": "pyout",
       "png": "[encoded data removed]",
       "prompt_number": 34,
       "text": [
        "-Lj3L\u22c5sin(PJ1elevation) + (-Lj3L + Lj6L)\u22c5(-sin(J1J2flexion)\u22c5cos(PJ1elevation) \n",
        "- sin(PJ1elevation)\u22c5cos(J1J2flexion)) + (-lsp - lst)\u22c5cos(lambdast)"
       ]
      }
     ],
     "prompt_number": 34
    },
    {
     "cell_type": "code",
     "collapsed": false,
     "input": [
      "zeroy"
     ],
     "language": "python",
     "metadata": {},
     "outputs": [
      {
       "latex": [
        "$$Lj3L \\cos{\\left (PJ1elevation \\right )} \\cos{\\left (sommersault \\right )} + \\left(- Lj3L + Lj6L\\right) \\left(- \\sin{\\left (J1J2flexion \\right )} \\sin{\\left (PJ1elevation \\right )} \\cos{\\left (sommersault \\right )} + \\cos{\\left (J1J2flexion \\right )} \\cos{\\left (PJ1elevation \\right )} \\cos{\\left (sommersault \\right )}\\right) + \\left(- lsp - lst\\right) \\sin{\\left (lambdast \\right )}$$"
       ],
       "metadata": {},
       "output_type": "pyout",
       "png": "[encoded data removed]",
       "prompt_number": 35,
       "text": [
        "Lj3L\u22c5cos(PJ1elevation)\u22c5cos(sommersault) + (-Lj3L + Lj6L)\u22c5(-sin(J1J2flexion)\u22c5si\n",
        "n(PJ1elevation)\u22c5cos(sommersault) + cos(J1J2flexion)\u22c5cos(PJ1elevation)\u22c5cos(somm\n",
        "ersault)) + (-lsp - lst)\u22c5sin(lambdast)"
       ]
      }
     ],
     "prompt_number": 35
    },
    {
     "cell_type": "markdown",
     "metadata": {},
     "source": [
      "The relationship between the bicycle geometry and the arm's coinfguration angles can be found in a similar manner, although this one requiring full three dimensional rotations. The left shoulder, $A1$, is the oriented with respect to the trunk through body fixed $XYZ$ rotations. "
     ]
    },
    {
     "cell_type": "code",
     "collapsed": false,
     "input": [
      "CA1elevation, CA1abduction, CA1rotation = \\\n",
      "    sym.symbols('CA1elevation, CA1abduction, CA1rotation')"
     ],
     "language": "python",
     "metadata": {},
     "outputs": [],
     "prompt_number": 15
    },
    {
     "cell_type": "code",
     "collapsed": false,
     "input": [
      "A1 = pelvis.orientnew('A1', 'Body', (CA1elevation, CA1abduction, CA1rotation), 'XYZ')"
     ],
     "language": "python",
     "metadata": {},
     "outputs": [],
     "prompt_number": 16
    },
    {
     "cell_type": "markdown",
     "metadata": {},
     "source": [
      "The lower arm is oriented with respect to the upper arm, $A1$, through a simple rotation."
     ]
    },
    {
     "cell_type": "code",
     "collapsed": false,
     "input": [
      "A1A2flexion = sym.symbols('A1A2flexion')"
     ],
     "language": "python",
     "metadata": {},
     "outputs": [],
     "prompt_number": 36
    },
    {
     "cell_type": "code",
     "collapsed": false,
     "input": [
      "A2 = A1.orientnew('A2', 'Axis', (A1A2flexion, A1.x))"
     ],
     "language": "python",
     "metadata": {},
     "outputs": [],
     "prompt_number": 37
    },
    {
     "cell_type": "markdown",
     "metadata": {},
     "source": [
      "The handle bars can be located with respect to the origin."
     ]
    },
    {
     "cell_type": "code",
     "collapsed": false,
     "input": [
      "bottom_bracket.pos_from(origin)\n",
      "rear_wheel_center = bottom_bracket.locatenew('cR', - lcs * sym.cos(sym.asin((rR-hbb) / lcs)) * yeadon_rf.y + (rR - hbb) * yeadon_rf.z)\n",
      "front_wheel_center = rear_wheel_center.locatenew('cF', -rR * yeadon_rf.z - w * yeadon_rf.y + rF * yeadon_rf.z)\n",
      "handlebar_from_rear = rear_wheel_center.locatenew('hbR', whb / 2 * yeadon_rf.x + a1 * yeadon_rf.y + a2 * yeadon_rf.z)\n",
      "handlebar_from_front = front_wheel_center.locatenew('hbF', whb / 2 * yeadon_rf.x + b1 * yeadon_rf.y + b2 * yeadon_rf.z)"
     ],
     "language": "python",
     "metadata": {},
     "outputs": []
    },
    {
     "cell_type": "markdown",
     "metadata": {},
     "source": [
      "The two vectors must have the maginute"
     ]
    },
    {
     "cell_type": "code",
     "collapsed": false,
     "input": [
      "zero1 = handlebar_from_rear.pos_from(origin).mag() - LhbF\n",
      "zero2 = handlebar_from_front.pos_from(origin).mag() - LhbR"
     ],
     "language": "python",
     "metadata": {},
     "outputs": []
    },
    {
     "cell_type": "markdown",
     "metadata": {},
     "source": [
      "The positions of the two handlebar vectors must be equal."
     ]
    },
    {
     "cell_type": "code",
     "collapsed": false,
     "input": [
      "zero = handlebar_from_front.pos_from(origin) - handlebar_from_rear.pos_from(origin)\n",
      "zero3 = me.dot(zero, yeadon_rf.y)\n",
      "zero4 = me.dot(zero, yeadon_rf.z)"
     ],
     "language": "python",
     "metadata": {},
     "outputs": []
    },
    {
     "cell_type": "markdown",
     "metadata": {},
     "source": [
      "These four equations can be solved for a1, a2, b1, b2."
     ]
    },
    {
     "cell_type": "code",
     "collapsed": false,
     "input": [
      "handlebar = rear_wheel_center.locatenew('hb', whb / 2 * yeadon_rf.x + a1 * yeadon_rf.y + a2 * yeadon_rf.z)"
     ],
     "language": "python",
     "metadata": {},
     "outputs": []
    },
    {
     "cell_type": "markdown",
     "metadata": {},
     "source": [
      "Finally, equations can be generated to solve for the arm angles. We assume that the plane defined by the normal to the elbow joint is always parallel to the ground."
     ]
    },
    {
     "cell_type": "code",
     "collapsed": false,
     "input": [
      "shoulder = origin.locatenew('La0', La0w / 2 * pelvis.x + (Ls4L - La2L) * pelvis.z)\n",
      "hand = shoulder.locatenew('H', (La2L - La0L) * A1.z + (La5L - La2L) * A2.z)"
     ],
     "language": "python",
     "metadata": {},
     "outputs": []
    },
    {
     "cell_type": "code",
     "collapsed": false,
     "input": [
      "zero = hand.pos_from(origin) - handlebar.pos_from(origin)\n",
      "f1 = zero.dot(yeadon_rf.x)\n",
      "f2 = zero.dot(yeadon_rf.y)\n",
      "f3 = zero.dot(yeadon_rf.z)\n",
      "f4 = A1.y.dot(yeadon_rf.z) # arm y should be orthogonal to global z (i.e. normal to the ground)"
     ],
     "language": "python",
     "metadata": {},
     "outputs": []
    },
    {
     "cell_type": "markdown",
     "metadata": {},
     "source": [
      "This should leave us with 8 equations that should be able to be solved simultaneously for the arm angles. We may need some checks to get the correct solutions or at least give good guesses in the numerical solver."
     ]
    }
   ],
   "metadata": {}
  }
 ]
}