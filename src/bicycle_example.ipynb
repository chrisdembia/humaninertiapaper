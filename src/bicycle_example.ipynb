{
 "metadata": {
  "name": ""
 },
 "nbformat": 3,
 "nbformat_minor": 0,
 "worksheets": [
  {
   "cells": [
    {
     "cell_type": "heading",
     "level": 1,
     "metadata": {},
     "source": [
      "Introduction"
     ]
    },
    {
     "cell_type": "markdown",
     "metadata": {},
     "source": [
      "This notebook describes the process of solving for the joint angles needed to configure the Yeadon human model to sit on a typical bicycle with hands on the handlebars, feet at the crank axle, and butt on the seat. The inertial properties of the rider in this configuration are generated and expressed in terms that would allow it to be combined with the inertial properties of the rear frame of the bicycle for rigid rider bicycle dynamics simulations.\n",
      "\n",
      "We first configure the rider by adding geometric points to the base Yeadon reference frame that represent the desired location of the hands and feet. The center of the base of the thumb stadium, $L_{a5}$, lies at on the handlebar grip. The center of the heel of the foot stadium, $L_{j6}$ and $L_{k6}$, lies on the bottom bracket axis.\n",
      "\n",
      "The geometry is described here: http://biosport.ucdavis.edu/research-projects/bicycle/bicycle-parameter-measurement/yeadon/bikervectors.pdf\n",
      "\n",
      "TODO : Create an SVG or PNG of the above bicycle geometry."
     ]
    },
    {
     "cell_type": "heading",
     "level": 1,
     "metadata": {},
     "source": [
      "Initialization"
     ]
    },
    {
     "cell_type": "code",
     "collapsed": false,
     "input": [
      "import sympy as sym\n",
      "import sympy.physics.mechanics as me\n",
      "\n",
      "import numpy as np\n",
      "\n",
      "from scipy import __version__ as scipy_version\n",
      "from scipy.optimize import fsolve\n",
      "\n",
      "import yeadon"
     ],
     "language": "python",
     "metadata": {},
     "outputs": [],
     "prompt_number": 1
    },
    {
     "cell_type": "code",
     "collapsed": false,
     "input": [
      "sym.__version__"
     ],
     "language": "python",
     "metadata": {},
     "outputs": [
      {
       "metadata": {},
       "output_type": "pyout",
       "prompt_number": 2,
       "text": [
        "'0.7.4'"
       ]
      }
     ],
     "prompt_number": 2
    },
    {
     "cell_type": "code",
     "collapsed": false,
     "input": [
      "np.__version__"
     ],
     "language": "python",
     "metadata": {},
     "outputs": [
      {
       "metadata": {},
       "output_type": "pyout",
       "prompt_number": 3,
       "text": [
        "'1.7.1'"
       ]
      }
     ],
     "prompt_number": 3
    },
    {
     "cell_type": "code",
     "collapsed": false,
     "input": [
      "scipy_version"
     ],
     "language": "python",
     "metadata": {},
     "outputs": [
      {
       "metadata": {},
       "output_type": "pyout",
       "prompt_number": 4,
       "text": [
        "'0.12.1'"
       ]
      }
     ],
     "prompt_number": 4
    },
    {
     "cell_type": "code",
     "collapsed": false,
     "input": [
      "#yeadon.__version__ # https://github.com/chrisdembia/yeadon/issues/66\n",
      "# using 1.0.2"
     ],
     "language": "python",
     "metadata": {},
     "outputs": [],
     "prompt_number": 5
    },
    {
     "cell_type": "markdown",
     "metadata": {},
     "source": [
      "Have SymPy display results in rendered $\\LaTeX$."
     ]
    },
    {
     "cell_type": "code",
     "collapsed": false,
     "input": [
      "sym.init_printing()"
     ],
     "language": "python",
     "metadata": {},
     "outputs": [],
     "prompt_number": 6
    },
    {
     "cell_type": "heading",
     "level": 1,
     "metadata": {},
     "source": [
      "Yeadon reference frame"
     ]
    },
    {
     "cell_type": "markdown",
     "metadata": {},
     "source": [
      "I first define a reference frame that represents the Yeadon model's base frame. The $\\hat{x}$ unit vector is directed right to left, the $\\hat{y}$ unit vector directed anterior to posterior, and the $\\hat{z}$ unit vector is directed inferior to superior."
     ]
    },
    {
     "cell_type": "code",
     "collapsed": false,
     "input": [
      "yeadon_rf = me.ReferenceFrame('Y')"
     ],
     "language": "python",
     "metadata": {},
     "outputs": [],
     "prompt_number": 7
    },
    {
     "cell_type": "heading",
     "level": 1,
     "metadata": {},
     "source": [
      "Torso angle"
     ]
    },
    {
     "cell_type": "markdown",
     "metadata": {},
     "source": [
      "The pelvis, $P$, torso, $T$, and chest, $C$, segements in Yeadon's model are assumed to be fixed relative to each other. The pelvis is then rotated forward through a somersault angle such that the rider's trunk ($P,T,C$) is hunched over with respect to the bicycle. The somersault angle is determined by photographing the seated bicyclist and estimating the angle at which the rider is leaned forward. We measure $\\phi_P$ directly, i.e. the hunch angle of the rider sitting on the bicycle. All rotations decribed here are body fixed $X$-$Y$-$Z$ rotations through $\\phi$, $\\theta$, $\\psi$ relative to the parent reference frame."
     ]
    },
    {
     "cell_type": "code",
     "collapsed": false,
     "input": [
      "sommersault = sym.symbols('phi_P')"
     ],
     "language": "python",
     "metadata": {},
     "outputs": [],
     "prompt_number": 8
    },
    {
     "cell_type": "code",
     "collapsed": false,
     "input": [
      "pelvis = yeadon_rf.orientnew('P', 'Axis', (sommersault, yeadon_rf.x))"
     ],
     "language": "python",
     "metadata": {},
     "outputs": [],
     "prompt_number": 9
    },
    {
     "cell_type": "heading",
     "level": 1,
     "metadata": {},
     "source": [
      "Location of the heel"
     ]
    },
    {
     "cell_type": "markdown",
     "metadata": {},
     "source": [
      "The thigh is defined to elevate at the hip through the angle, `PJ1elevation`, and the lower leg is flexes at the knee through the angle, `J1J2flexion`, such that the heel, $L_{j6}$ and $L_{k6}$, are aligned with the center of the bottom bracket. Note that there is no hip abduction, so the heels are the same distance from the sagittal plane as the hip centers are. The elevation and flexion angles of the hip and knee can be computed by enforcing the kinematic constraint."
     ]
    },
    {
     "cell_type": "code",
     "collapsed": false,
     "input": [
      "PJ1elevation, J1J2flexion = sym.symbols('phi_J1, phi_J2')"
     ],
     "language": "python",
     "metadata": {},
     "outputs": [],
     "prompt_number": 10
    },
    {
     "cell_type": "code",
     "collapsed": false,
     "input": [
      "left_thigh = pelvis.orientnew('J1', 'Axis', (PJ1elevation, pelvis.x))\n",
      "left_lower_leg = left_thigh.orientnew('J2', 'Axis', (J1J2flexion, left_thigh.x))"
     ],
     "language": "python",
     "metadata": {},
     "outputs": [],
     "prompt_number": 11
    },
    {
     "cell_type": "markdown",
     "metadata": {},
     "source": [
      "The origin of the Yeadon model is at the base of pelvis and we assume that that is coicident with a point at the top of the seat that lies on the seat tube axis."
     ]
    },
    {
     "cell_type": "code",
     "collapsed": false,
     "input": [
      "origin = me.Point('O')"
     ],
     "language": "python",
     "metadata": {},
     "outputs": [],
     "prompt_number": 12
    },
    {
     "cell_type": "markdown",
     "metadata": {},
     "source": [
      "The heel center is located with respect to the seat by using measurements from the Yeadon model:\n",
      "\n",
      "- $L_{j3_L}$: length to knee with respect to the hip\n",
      "- $L_{j5_L}$: length to ankle with respect to the hip\n",
      "- $L_{j6_L}$: length to heel with respect to ankle"
     ]
    },
    {
     "cell_type": "code",
     "collapsed": false,
     "input": [
      "Lj3L, Lj5L, Lj6L = sym.symbols('L_j3L, L_j5L, L_j6L')"
     ],
     "language": "python",
     "metadata": {},
     "outputs": [],
     "prompt_number": 13
    },
    {
     "cell_type": "code",
     "collapsed": false,
     "input": [
      "heel = origin.locatenew('H', -Lj3L * left_thigh.z - (Lj6L + Lj5L) * left_lower_leg.z)\n",
      "heel.pos_from(origin)"
     ],
     "language": "python",
     "metadata": {},
     "outputs": [
      {
       "metadata": {},
       "output_type": "pyout",
       "prompt_number": 14,
       "text": [
        "- L_j3L*J1.z + (-L_j5L - L_j6L)*J2.z"
       ]
      }
     ],
     "prompt_number": 14
    },
    {
     "cell_type": "heading",
     "level": 1,
     "metadata": {},
     "source": [
      "Location of bottom bracket"
     ]
    },
    {
     "cell_type": "markdown",
     "metadata": {},
     "source": [
      "The seat point, $P$, is defined such that it is coincident with the origin of the Yeadon model."
     ]
    },
    {
     "cell_type": "code",
     "collapsed": false,
     "input": [
      "seat = origin.locatenew('P', 0)"
     ],
     "language": "python",
     "metadata": {},
     "outputs": [],
     "prompt_number": 15
    },
    {
     "cell_type": "markdown",
     "metadata": {},
     "source": [
      "The location from the origin to the bottom bracket can be described by the geometrical measurements:\n",
      "\n",
      "- $\\lambda_{st}$: seat tube angle\n",
      "- $l_{st}$: seat tube length\n",
      "- $l_{sp}$: seat post length"
     ]
    },
    {
     "cell_type": "code",
     "collapsed": false,
     "input": [
      "seat_tube_length, seat_post_length, seat_tube_angle = sym.symbols('l_st, l_sp, lambda_st')"
     ],
     "language": "python",
     "metadata": {},
     "outputs": [],
     "prompt_number": 16
    },
    {
     "cell_type": "code",
     "collapsed": false,
     "input": [
      "seat_distance = seat_tube_length + seat_post_length # realtive to the bottom bracket\n",
      "bottom_bracket = origin.locatenew('B', -seat_distance * (sym.cos(seat_tube_angle) * yeadon_rf.y +\n",
      "                                                         sym.sin(seat_tube_angle) * yeadon_rf.z))"
     ],
     "language": "python",
     "metadata": {},
     "outputs": [],
     "prompt_number": 17
    },
    {
     "cell_type": "heading",
     "level": 1,
     "metadata": {},
     "source": [
      "Solve for leg angles"
     ]
    },
    {
     "cell_type": "markdown",
     "metadata": {},
     "source": [
      "The hip elevation and knee flexion can be found by enforcing that the distance from the heel to the bottom bracket is zero, giving two non-linear equations and two unknowns."
     ]
    },
    {
     "cell_type": "code",
     "collapsed": false,
     "input": [
      "zero = bottom_bracket.pos_from(heel)\n",
      "zero1 = me.dot(zero, yeadon_rf.y)\n",
      "zero2 = me.dot(zero, yeadon_rf.z)"
     ],
     "language": "python",
     "metadata": {},
     "outputs": [],
     "prompt_number": 18
    },
    {
     "cell_type": "code",
     "collapsed": false,
     "input": [
      "zero1.trigsimp()"
     ],
     "language": "python",
     "metadata": {},
     "outputs": [
      {
       "latex": [
        "$$- L_{j3L} \\sin{\\left (\\phi_{J1} + \\phi_{P} \\right )} + \\left(- L_{j5L} - L_{j6L}\\right) \\sin{\\left (\\phi_{J1} + \\phi_{J2} + \\phi_{P} \\right )} + \\left(- l_{sp} - l_{st}\\right) \\cos{\\left (\\lambda_{st} \\right )}$$"
       ],
       "metadata": {},
       "output_type": "pyout",
       "png": "[encoded data removed]",
       "prompt_number": 19,
       "text": [
        "-L_j3L\u22c5sin(\u03c6_J1 + \u03c6_P) + (-L_j5L - L_j6L)\u22c5sin(\u03c6_J1 + \u03c6_J2 + \u03c6_P) + (-l_sp - l_\n",
        "st)\u22c5cos(\u03bb_st)"
       ]
      }
     ],
     "prompt_number": 19
    },
    {
     "cell_type": "code",
     "collapsed": false,
     "input": [
      "zero2.trigsimp()"
     ],
     "language": "python",
     "metadata": {},
     "outputs": [
      {
       "latex": [
        "$$L_{j3L} \\cos{\\left (\\phi_{J1} + \\phi_{P} \\right )} + \\left(L_{j5L} + L_{j6L}\\right) \\cos{\\left (\\phi_{J1} + \\phi_{J2} + \\phi_{P} \\right )} + \\left(- l_{sp} - l_{st}\\right) \\sin{\\left (\\lambda_{st} \\right )}$$"
       ],
       "metadata": {},
       "output_type": "pyout",
       "png": "[encoded data removed]",
       "prompt_number": 20,
       "text": [
        "L_j3L\u22c5cos(\u03c6_J1 + \u03c6_P) + (L_j5L + L_j6L)\u22c5cos(\u03c6_J1 + \u03c6_J2 + \u03c6_P) + (-l_sp - l_st\n",
        ")\u22c5sin(\u03bb_st)"
       ]
      }
     ],
     "prompt_number": 20
    },
    {
     "cell_type": "markdown",
     "metadata": {},
     "source": [
      "These two equations can be solved for the hip elevation angle, $\\phi_{J1}$, and the knee flexion angle, $\\phi_{J2}$ given all other variables."
     ]
    },
    {
     "cell_type": "heading",
     "level": 1,
     "metadata": {},
     "source": [
      "Location of the hand"
     ]
    },
    {
     "cell_type": "markdown",
     "metadata": {},
     "source": [
      "The relationship between the bicycle geometry and the arm's coinfguration angles can be found in a similar manner, although this one requiring full three dimensional rotations. The left shoulder, $A1$, is the oriented with respect to the trunk through body fixed $X$-$Y$-$Z$ rotations. "
     ]
    },
    {
     "cell_type": "code",
     "collapsed": false,
     "input": [
      "CA1elevation, CA1abduction, CA1rotation = sym.symbols('phi_A1, theta_A1, psi_A')"
     ],
     "language": "python",
     "metadata": {},
     "outputs": [],
     "prompt_number": 21
    },
    {
     "cell_type": "code",
     "collapsed": false,
     "input": [
      "left_upper_arm = pelvis.orientnew('A1', 'Body', (CA1elevation, CA1abduction, CA1rotation), 'XYZ')"
     ],
     "language": "python",
     "metadata": {},
     "outputs": [],
     "prompt_number": 22
    },
    {
     "cell_type": "markdown",
     "metadata": {},
     "source": [
      "The lower arm is oriented with respect to the upper arm, $A1$, through a simple rotation: `A1A2flexion` or $\\phi_{A2}$."
     ]
    },
    {
     "cell_type": "code",
     "collapsed": false,
     "input": [
      "A1A2flexion = sym.symbols('phi_A2')"
     ],
     "language": "python",
     "metadata": {},
     "outputs": [],
     "prompt_number": 23
    },
    {
     "cell_type": "code",
     "collapsed": false,
     "input": [
      "left_lower_arm = left_upper_arm.orientnew('A2', 'Axis', (A1A2flexion, left_upper_arm.x))"
     ],
     "language": "python",
     "metadata": {},
     "outputs": [],
     "prompt_number": 24
    },
    {
     "cell_type": "markdown",
     "metadata": {},
     "source": [
      "- $L_{s4_L}$: length of to shoulder with respect to the hip\n",
      "- $L_{s4_w}$: shoulder width\n",
      "- $L_{a2_L}$: length to elbow with respect to shoulder\n",
      "- $L_{a4_L}$: length to wrist with respect to shoulder\n",
      "- $L_{a5_L}$: length to base of thumb with respect to shoulder"
     ]
    },
    {
     "cell_type": "code",
     "collapsed": false,
     "input": [
      "shoulder_width = sym.symbols('L_s4w')\n",
      "Ls4L, La2L, La4L, La5L = sym.symbols('L_s4L, L_a2L, L_a4L, L_a5L')"
     ],
     "language": "python",
     "metadata": {},
     "outputs": [],
     "prompt_number": 25
    },
    {
     "cell_type": "code",
     "collapsed": false,
     "input": [
      "shoulder = origin.locatenew('La0', shoulder_width / 2 * pelvis.x + Ls4L * pelvis.z)\n",
      "hand = shoulder.locatenew('H', -La2L * left_upper_arm.z - (La4L + La5L) * left_lower_arm.z)"
     ],
     "language": "python",
     "metadata": {},
     "outputs": [],
     "prompt_number": 26
    },
    {
     "cell_type": "heading",
     "level": 1,
     "metadata": {},
     "source": [
      "Location of handlebar grip"
     ]
    },
    {
     "cell_type": "markdown",
     "metadata": {},
     "source": [
      "The handle bars can be located with respect to the seat. But several new bicycle geometric quantities are needed. Our choice of variables were based on simplicity to measure:\n",
      "\n",
      "- $l_{cs}$: Projected chain stay length (i.e. projected into the $YZ$ plane of the Yeadon base reference frame)\n",
      "- $r_R,R_F$: The rear and front wheel radii.\n",
      "- $h_{bb}$: The bottom bracket height.\n",
      "- $w_{hb}$: The handle bar width (i.e. measured at the grip point).\n",
      "- $w$: wheelbase\n",
      "\n",
      "We also define four unknowns that give the $Y$ and $Z$ measure numbers of the vectors from the rear and front wheel centers to the handlebars: $f_y$, $f_z$, $r_y$, $r_z$."
     ]
    },
    {
     "cell_type": "code",
     "collapsed": false,
     "input": [
      "chain_stay_length = sym.symbols('l_cs')\n",
      "front_wheel_radius, rear_wheel_radius = sym.symbols('r_F, r_R')\n",
      "bottom_bracket_height = sym.symbols('h_bb')\n",
      "handle_width = sym.symbols('w_hb')\n",
      "wheelbase = sym.symbols('w')\n",
      "ry, rz, fy, fz = sym.symbols('r_y, r_z, f_y, f_z')"
     ],
     "language": "python",
     "metadata": {},
     "outputs": [],
     "prompt_number": 27
    },
    {
     "cell_type": "code",
     "collapsed": false,
     "input": [
      "rear_wheel_center = bottom_bracket.locatenew('cR', -chain_stay_length * \n",
      "                                             sym.cos(sym.asin((rear_wheel_radius - \n",
      "                                                               bottom_bracket_height) / chain_stay_length)) *\n",
      "                                             yeadon_rf.y + (rear_wheel_radius - bottom_bracket_height) * yeadon_rf.z)\n",
      "\n",
      "front_wheel_center = rear_wheel_center.locatenew('cF', -rear_wheel_radius * yeadon_rf.z - wheelbase * yeadon_rf.y +\n",
      "                                                 front_wheel_radius * yeadon_rf.z)\n",
      "\n",
      "handlebar_from_rear = rear_wheel_center.locatenew('hbR', handle_width / 2 * yeadon_rf.x +\n",
      "                                                         ry * yeadon_rf.y +\n",
      "                                                         rz * yeadon_rf.z)\n",
      "\n",
      "handlebar_from_front = front_wheel_center.locatenew('hbF', handle_width / 2 * yeadon_rf.x +\n",
      "                                                           fy * yeadon_rf.y +\n",
      "                                                           fz * yeadon_rf.z)"
     ],
     "language": "python",
     "metadata": {},
     "outputs": [],
     "prompt_number": 28
    },
    {
     "cell_type": "markdown",
     "metadata": {},
     "source": [
      "The two vectors must have the magnitudes that equal the measurements taken from the wheel centers to the handle grip, $L_{hbF}, L_{hbR}$."
     ]
    },
    {
     "cell_type": "code",
     "collapsed": false,
     "input": [
      "front_to_grip, rear_to_grip = sym.symbols('L_hbF, L_hbR')"
     ],
     "language": "python",
     "metadata": {},
     "outputs": [],
     "prompt_number": 29
    },
    {
     "cell_type": "code",
     "collapsed": false,
     "input": [
      "zero3 = handlebar_from_rear.pos_from(seat).magnitude() - front_to_grip\n",
      "zero4 = handlebar_from_front.pos_from(seat).magnitude() - rear_to_grip"
     ],
     "language": "python",
     "metadata": {},
     "outputs": [],
     "prompt_number": 30
    },
    {
     "cell_type": "code",
     "collapsed": false,
     "input": [
      "zero3.trigsimp()"
     ],
     "language": "python",
     "metadata": {},
     "outputs": [
      {
       "latex": [
        "$$- L_{hbF} + \\sqrt{\\frac{w_{hb}^{2}}{4} + \\left(- l_{cs} \\sqrt{1 - \\frac{1}{l_{cs}^{2}} \\left(- h_{bb} + r_{R}\\right)^{2}} + r_{y} + \\left(- l_{sp} - l_{st}\\right) \\cos{\\left (\\lambda_{st} \\right )}\\right)^{2} + \\left(- h_{bb} + r_{R} + r_{z} + \\left(- l_{sp} - l_{st}\\right) \\sin{\\left (\\lambda_{st} \\right )}\\right)^{2}}$$"
       ],
       "metadata": {},
       "output_type": "pyout",
       "png": "[encoded data removed]",
       "prompt_number": 31,
       "text": [
        "                 _____________________________________________________________\n",
        "                \u2571                                                             \n",
        "               \u2571          \u239b             ____________________                  \n",
        "              \u2571       2   \u239c            \u2571                  2                   \n",
        "             \u2571    w_hb    \u239c           \u2571      (-h_bb + r_R)                    \n",
        "-L_hbF +    \u2571     \u2500\u2500\u2500\u2500\u2500 + \u239c- l_cs\u22c5   \u2571   1 - \u2500\u2500\u2500\u2500\u2500\u2500\u2500\u2500\u2500\u2500\u2500\u2500\u2500\u2500  + r_y + (-l_sp - \n",
        "           \u2571        4     \u239c         \u2571                2                        \n",
        "         \u2572\u2571               \u239d       \u2572\u2571             l_cs                         \n",
        "\n",
        "____________________________________________________________________\n",
        "                2                                                   \n",
        "               \u239e                                                    \n",
        "               \u239f                                                    \n",
        "               \u239f                                                  2 \n",
        "l_st)\u22c5cos(\u03bb_st)\u239f  + (-h_bb + r_R + r_z + (-l_sp - l_st)\u22c5sin(\u03bb_st))  \n",
        "               \u239f                                                    \n",
        "               \u23a0                                                    "
       ]
      }
     ],
     "prompt_number": 31
    },
    {
     "cell_type": "code",
     "collapsed": false,
     "input": [
      "zero4.trigsimp()"
     ],
     "language": "python",
     "metadata": {},
     "outputs": [
      {
       "latex": [
        "$$- L_{hbR} + \\sqrt{\\frac{w_{hb}^{2}}{4} + \\left(f_{y} - l_{cs} \\sqrt{1 - \\frac{1}{l_{cs}^{2}} \\left(- h_{bb} + r_{R}\\right)^{2}} - w + \\left(- l_{sp} - l_{st}\\right) \\cos{\\left (\\lambda_{st} \\right )}\\right)^{2} + \\left(f_{z} - h_{bb} + r_{F} + \\left(- l_{sp} - l_{st}\\right) \\sin{\\left (\\lambda_{st} \\right )}\\right)^{2}}$$"
       ],
       "metadata": {},
       "output_type": "pyout",
       "png": "[encoded data removed]",
       "prompt_number": 32,
       "text": [
        "                 _____________________________________________________________\n",
        "                \u2571                                                             \n",
        "               \u2571          \u239b                 ____________________              \n",
        "              \u2571       2   \u239c                \u2571                  2               \n",
        "             \u2571    w_hb    \u239c               \u2571      (-h_bb + r_R)                \n",
        "-L_hbR +    \u2571     \u2500\u2500\u2500\u2500\u2500 + \u239cf_y - l_cs\u22c5   \u2571   1 - \u2500\u2500\u2500\u2500\u2500\u2500\u2500\u2500\u2500\u2500\u2500\u2500\u2500\u2500  - w + (-l_sp \n",
        "           \u2571        4     \u239c             \u2571                2                    \n",
        "         \u2572\u2571               \u239d           \u2572\u2571             l_cs                     \n",
        "\n",
        "_____________________________________________________________________\n",
        "                  2                                                  \n",
        "                 \u239e                                                   \n",
        "                 \u239f                                                   \n",
        "                 \u239f                                                 2 \n",
        "- l_st)\u22c5cos(\u03bb_st)\u239f  + (f_z - h_bb + r_F + (-l_sp - l_st)\u22c5sin(\u03bb_st))  \n",
        "                 \u239f                                                   \n",
        "                 \u23a0                                                   "
       ]
      }
     ],
     "prompt_number": 32
    },
    {
     "cell_type": "markdown",
     "metadata": {},
     "source": [
      "Furthermore, the positions of the two handlebar vectors must be equal."
     ]
    },
    {
     "cell_type": "code",
     "collapsed": false,
     "input": [
      "zero = handlebar_from_front.pos_from(seat) - handlebar_from_rear.pos_from(seat)\n",
      "zero5 = me.dot(zero, yeadon_rf.y)\n",
      "zero6 = me.dot(zero, yeadon_rf.z)"
     ],
     "language": "python",
     "metadata": {},
     "outputs": [],
     "prompt_number": 33
    },
    {
     "cell_type": "code",
     "collapsed": false,
     "input": [
      "zero5"
     ],
     "language": "python",
     "metadata": {},
     "outputs": [
      {
       "latex": [
        "$$f_{y} - r_{y} - w$$"
       ],
       "metadata": {},
       "output_type": "pyout",
       "png": "[encoded data removed]",
       "prompt_number": 34,
       "text": [
        "f_y - r_y - w"
       ]
      }
     ],
     "prompt_number": 34
    },
    {
     "cell_type": "code",
     "collapsed": false,
     "input": [
      "zero6"
     ],
     "language": "python",
     "metadata": {},
     "outputs": [
      {
       "latex": [
        "$$f_{z} + r_{F} - r_{R} - r_{z}$$"
       ],
       "metadata": {},
       "output_type": "pyout",
       "png": "[encoded data removed]",
       "prompt_number": 35,
       "text": [
        "f_z + r_F - r_R - r_z"
       ]
      }
     ],
     "prompt_number": 35
    },
    {
     "cell_type": "markdown",
     "metadata": {},
     "source": [
      "These four equations can be solved for $f_y$, $f_z$, $r_y$, $f_z$. And we can use one of the handlebar vectors to locate the handle bar grip."
     ]
    },
    {
     "cell_type": "heading",
     "level": 1,
     "metadata": {},
     "source": [
      "Solve for arm angles"
     ]
    },
    {
     "cell_type": "code",
     "collapsed": false,
     "input": [
      "left_grip = rear_wheel_center.locatenew('hb', handle_width / 2 * yeadon_rf.x + ry * yeadon_rf.y + rz * yeadon_rf.z)"
     ],
     "language": "python",
     "metadata": {},
     "outputs": [],
     "prompt_number": 36
    },
    {
     "cell_type": "markdown",
     "metadata": {},
     "source": [
      "Finally, equations can be generated to solve for the arm angles with the additional assumption that the plane defined by the normal to the elbow joint is always parallel to the ground, $XY$ plane."
     ]
    },
    {
     "cell_type": "code",
     "collapsed": false,
     "input": [
      "zero = hand.pos_from(origin) - left_grip.pos_from(origin)\n",
      "zero7 = zero.dot(yeadon_rf.x)\n",
      "zero8 = zero.dot(yeadon_rf.y)\n",
      "zero9 = zero.dot(yeadon_rf.z)\n",
      "zero10 = left_upper_arm.x.dot(yeadon_rf.z) # arm x should be orthogonal to global z (i.e. normal to the ground)"
     ],
     "language": "python",
     "metadata": {},
     "outputs": [],
     "prompt_number": 37
    },
    {
     "cell_type": "code",
     "collapsed": false,
     "input": [
      "zero7.trigsimp()"
     ],
     "language": "python",
     "metadata": {},
     "outputs": [
      {
       "latex": [
        "$$- L_{a2L} \\sin{\\left (\\theta_{A1} \\right )} + \\frac{L_{s4w}}{2} - \\frac{w_{hb}}{2} + \\left(- L_{a4L} - L_{a5L}\\right) \\left(\\sin{\\left (\\phi_{A2} \\right )} \\sin{\\left (\\psi_{A} \\right )} \\cos{\\left (\\theta_{A1} \\right )} + \\sin{\\left (\\theta_{A1} \\right )} \\cos{\\left (\\phi_{A2} \\right )}\\right)$$"
       ],
       "metadata": {},
       "output_type": "pyout",
       "png": "[encoded data removed]",
       "prompt_number": 38,
       "text": [
        "                   L_s4w   w_hb                                               \n",
        "-L_a2L\u22c5sin(\u03b8_A1) + \u2500\u2500\u2500\u2500\u2500 - \u2500\u2500\u2500\u2500 + (-L_a4L - L_a5L)\u22c5(sin(\u03c6_A2)\u22c5sin(\u03c8_A)\u22c5cos(\u03b8_A\n",
        "                     2      2                                                 \n",
        "\n",
        "                         \n",
        "1) + sin(\u03b8_A1)\u22c5cos(\u03c6_A2))\n",
        "                         "
       ]
      }
     ],
     "prompt_number": 38
    },
    {
     "cell_type": "code",
     "collapsed": false,
     "input": [
      "zero8.trigsimp()"
     ],
     "language": "python",
     "metadata": {},
     "outputs": [
      {
       "latex": [
        "$$L_{a2L} \\sin{\\left (\\phi_{A1} + \\phi_{P} \\right )} \\cos{\\left (\\theta_{A1} \\right )} - L_{s4L} \\sin{\\left (\\phi_{P} \\right )} + l_{cs} \\sqrt{1 - \\frac{1}{l_{cs}^{2}} \\left(- h_{bb} + r_{R}\\right)^{2}} - r_{y} + \\left(- L_{a4L} - L_{a5L}\\right) \\left(- \\left(- \\sin{\\left (\\psi_{A} \\right )} \\sin{\\left (\\theta_{A1} \\right )} \\sin{\\left (\\phi_{A1} + \\phi_{P} \\right )} + \\cos{\\left (\\psi_{A} \\right )} \\cos{\\left (\\phi_{A1} + \\phi_{P} \\right )}\\right) \\sin{\\left (\\phi_{A2} \\right )} - \\sin{\\left (\\phi_{A1} + \\phi_{P} \\right )} \\cos{\\left (\\phi_{A2} \\right )} \\cos{\\left (\\theta_{A1} \\right )}\\right) + \\left(l_{sp} + l_{st}\\right) \\cos{\\left (\\lambda_{st} \\right )}$$"
       ],
       "metadata": {},
       "output_type": "pyout",
       "png": "[encoded data removed]",
       "prompt_number": 39,
       "text": [
        "                                                              ________________\n",
        "                                                             \u2571                \n",
        "                                                            \u2571      (-h_bb + r_\n",
        "L_a2L\u22c5sin(\u03c6_A1 + \u03c6_P)\u22c5cos(\u03b8_A1) - L_s4L\u22c5sin(\u03c6_P) + l_cs\u22c5   \u2571   1 - \u2500\u2500\u2500\u2500\u2500\u2500\u2500\u2500\u2500\u2500\u2500\n",
        "                                                          \u2571                2  \n",
        "                                                        \u2572\u2571             l_cs   \n",
        "\n",
        "____                                                                          \n",
        "  2                                                                           \n",
        "R)                                                                            \n",
        "\u2500\u2500\u2500  - r_y + (-L_a4L - L_a5L)\u22c5(-(-sin(\u03c8_A)\u22c5sin(\u03b8_A1)\u22c5sin(\u03c6_A1 + \u03c6_P) + cos(\u03c8_A\n",
        "                                                                              \n",
        "                                                                              \n",
        "\n",
        "                                                                              \n",
        "                                                                              \n",
        "                                                                              \n",
        ")\u22c5cos(\u03c6_A1 + \u03c6_P))\u22c5sin(\u03c6_A2) - sin(\u03c6_A1 + \u03c6_P)\u22c5cos(\u03c6_A2)\u22c5cos(\u03b8_A1)) + (l_sp + \n",
        "                                                                              \n",
        "                                                                              \n",
        "\n",
        "               \n",
        "               \n",
        "               \n",
        "l_st)\u22c5cos(\u03bb_st)\n",
        "               \n",
        "               "
       ]
      }
     ],
     "prompt_number": 39
    },
    {
     "cell_type": "code",
     "collapsed": false,
     "input": [
      "zero9.trigsimp()"
     ],
     "language": "python",
     "metadata": {},
     "outputs": [
      {
       "latex": [
        "$$- L_{a2L} \\cos{\\left (\\theta_{A1} \\right )} \\cos{\\left (\\phi_{A1} + \\phi_{P} \\right )} + L_{s4L} \\cos{\\left (\\phi_{P} \\right )} + h_{bb} - r_{R} - r_{z} + \\left(- L_{a4L} - L_{a5L}\\right) \\left(- \\left(\\sin{\\left (\\psi_{A} \\right )} \\sin{\\left (\\theta_{A1} \\right )} \\cos{\\left (\\phi_{A1} + \\phi_{P} \\right )} + \\sin{\\left (\\phi_{A1} + \\phi_{P} \\right )} \\cos{\\left (\\psi_{A} \\right )}\\right) \\sin{\\left (\\phi_{A2} \\right )} + \\cos{\\left (\\phi_{A2} \\right )} \\cos{\\left (\\theta_{A1} \\right )} \\cos{\\left (\\phi_{A1} + \\phi_{P} \\right )}\\right) + \\left(l_{sp} + l_{st}\\right) \\sin{\\left (\\lambda_{st} \\right )}$$"
       ],
       "metadata": {},
       "output_type": "pyout",
       "png": "[encoded data removed]",
       "prompt_number": 40,
       "text": [
        "-L_a2L\u22c5cos(\u03b8_A1)\u22c5cos(\u03c6_A1 + \u03c6_P) + L_s4L\u22c5cos(\u03c6_P) + h_bb - r_R - r_z + (-L_a4L\n",
        " - L_a5L)\u22c5(-(sin(\u03c8_A)\u22c5sin(\u03b8_A1)\u22c5cos(\u03c6_A1 + \u03c6_P) + sin(\u03c6_A1 + \u03c6_P)\u22c5cos(\u03c8_A))\u22c5si\n",
        "n(\u03c6_A2) + cos(\u03c6_A2)\u22c5cos(\u03b8_A1)\u22c5cos(\u03c6_A1 + \u03c6_P)) + (l_sp + l_st)\u22c5sin(\u03bb_st)"
       ]
      }
     ],
     "prompt_number": 40
    },
    {
     "cell_type": "code",
     "collapsed": false,
     "input": [
      "zero10.trigsimp()"
     ],
     "language": "python",
     "metadata": {},
     "outputs": [
      {
       "latex": [
        "$$\\sin{\\left (\\psi_{A} \\right )} \\sin{\\left (\\phi_{A1} + \\phi_{P} \\right )} - \\sin{\\left (\\theta_{A1} \\right )} \\cos{\\left (\\psi_{A} \\right )} \\cos{\\left (\\phi_{A1} + \\phi_{P} \\right )}$$"
       ],
       "metadata": {},
       "output_type": "pyout",
       "png": "[encoded data removed]",
       "prompt_number": 41,
       "text": [
        "sin(\u03c8_A)\u22c5sin(\u03c6_A1 + \u03c6_P) - sin(\u03b8_A1)\u22c5cos(\u03c8_A)\u22c5cos(\u03c6_A1 + \u03c6_P)"
       ]
      }
     ],
     "prompt_number": 41
    },
    {
     "cell_type": "heading",
     "level": 1,
     "metadata": {},
     "source": [
      "Numerical Solution"
     ]
    },
    {
     "cell_type": "markdown",
     "metadata": {},
     "source": [
      "This should leave us with 10 equations that should be able to be solved simultaneously for the left leg and left arm angles. We may need some checks to get the correct solutions or at least give good guesses in the numerical solver."
     ]
    },
    {
     "cell_type": "code",
     "collapsed": false,
     "input": [
      "equations = [zero1, zero2, zero3, zero4, zero5, zero6, zero7, zero8, zero9, zero10]"
     ],
     "language": "python",
     "metadata": {},
     "outputs": [],
     "prompt_number": 42
    },
    {
     "cell_type": "markdown",
     "metadata": {},
     "source": [
      "We need to solve the ten equations for $\\phi_{J1},\\phi_{J2},\\phi_{A1},\\theta_{A1},\\psi_{A1},\\phi_{A2},f_y,f_z,r_y,r_z$ given values for all of the measurements. Note that the first two equations for the leg angles are not coupled to the remaining equations for the arms. Also note that these are nonlinear equations so we will need to use a solver such as `scipy.optimize.fsolve` to find the solutions to the equations.\n",
      "\n",
      "\n",
      "\n",
      "Human Measurments:\n",
      "\n",
      "- $L_{s4_L}$: length of to shoulder with respect to the hip\n",
      "- $L_{s4_w}$: shoulder width\n",
      "- $L_{j3_L}$: length to knee with respect to the hip\n",
      "- $L_{j5_L}$: length to ankle with respect to the hip\n",
      "- $L_{j6_L}$: length to heel with respect to ankle\n",
      "- $L_{a2_L}$: length to elbow with respect to shoulder\n",
      "- $L_{a4_L}$: length to wrist with respect to shoulder\n",
      "- $L_{a5_L}$: length to base of thumb with respect to shoulder\n",
      "- $\\phi_P$: Somersault angle"
     ]
    },
    {
     "cell_type": "markdown",
     "metadata": {},
     "source": [
      "Bicycel Measurements:\n",
      "\n",
      "- $\\lambda_{st}$: The acute angle between the seat tube axis and the ground plane\n",
      "- $l_{st}$: seat tube length\n",
      "- $l_{sp}$: seat post length\n",
      "- $l_{cs}$: Projected chain stay length (i.e. projected into the $YZ$ plane of the Yeadon base reference frame)\n",
      "- $r_R,R_F$: The rear and front wheel radii.\n",
      "- $h_{bb}$: The bottom bracket height.\n",
      "- $w_{hb}$: The handle bar width (i.e. measured at the grip point).\n",
      "- $w$: wheelbase\n",
      "- $L_{hbF}$: The distance from the center of the front wheel to the left handlebar grip.\n",
      "- $L_{hbR}$: The distance from the center of the rear wheel to the left handlebar grip."
     ]
    },
    {
     "cell_type": "markdown",
     "metadata": {},
     "source": [
      "Here we list all of the symbols for the unknowns to solve for and the known measurements. Note that the order is important."
     ]
    },
    {
     "cell_type": "code",
     "collapsed": false,
     "input": [
      "unknown_symbols = PJ1elevation, J1J2flexion, CA1elevation, CA1abduction, CA1rotation, A1A2flexion, ry, rz, fy, fz\n",
      "\n",
      "bicycle_measurement_symbols = (seat_tube_length, seat_post_length, seat_tube_angle, chain_stay_length, \n",
      "                               front_wheel_radius, rear_wheel_radius, bottom_bracket_height, handle_width, \n",
      "                               wheelbase, front_to_grip, rear_to_grip)\n",
      "\n",
      "human_measurement_symbols = Lj3L, Lj5L, Lj6L, Ls4L, shoulder_width, La2L, La4L, La5L, sommersault\n",
      "\n",
      "all_symbols = unknown_symbols + bicycle_measurement_symbols + human_measurement_symbols"
     ],
     "language": "python",
     "metadata": {},
     "outputs": [],
     "prompt_number": 43
    },
    {
     "cell_type": "markdown",
     "metadata": {},
     "source": [
      "Now generate a function based on the SymPy expressions that can be evaluated numerically."
     ]
    },
    {
     "cell_type": "code",
     "collapsed": false,
     "input": [
      "numerical_function = sym.lambdify(all_symbols, equations, modules=\"numpy\")"
     ],
     "language": "python",
     "metadata": {},
     "outputs": [],
     "prompt_number": 44
    },
    {
     "cell_type": "code",
     "collapsed": false,
     "input": [
      "def zero(unknowns, knowns):\n",
      "    \"\"\"Returns the value of the vector nonlinear function given the \n",
      "    \n",
      "    Parameters\n",
      "    ----------\n",
      "    unknowns : array_like, shape(10,)\n",
      "        The numerical values of the unknown quantities, i.e. joint angles and a1, a2, b1, b2.\n",
      "    knowns : array_like, shape(19,)\n",
      "        The numerical values of the known quantities: human and bicycle geometry.\n",
      "        \n",
      "    Returns\n",
      "    -------\n",
      "    sol : ndarray, shape(10,)\n",
      "    \n",
      "    \"\"\"\n",
      "    all_values = np.hstack((unknowns, knowns))\n",
      "    return np.array(numerical_function(*all_values))"
     ],
     "language": "python",
     "metadata": {},
     "outputs": [],
     "prompt_number": 45
    },
    {
     "cell_type": "markdown",
     "metadata": {},
     "source": [
      "These are typical values of the measurements in meters except otherwise noted (from the Browser bicycle)."
     ]
    },
    {
     "cell_type": "code",
     "collapsed": false,
     "input": [
      "n_lst = 0.53\n",
      "n_lsp = 0.24\n",
      "n_lamst = 1.195550538 # radians\n",
      "n_lcs = 0.46\n",
      "n_rF = 0.34352982332\n",
      "n_rR = 0.340958858855\n",
      "n_hbb = 0.295\n",
      "n_whb = 0.58\n",
      "n_w = 1.121\n",
      "n_LhbF = 0.8930\n",
      "n_LhbR = 0.9213\n",
      "args = [n_lst, n_lsp, n_lamst, n_lcs, n_rF, n_rR, n_hbb, n_whb, n_w, n_LhbF, n_LhbR]"
     ],
     "language": "python",
     "metadata": {},
     "outputs": [],
     "prompt_number": 59
    },
    {
     "cell_type": "markdown",
     "metadata": {},
     "source": [
      "We can use the yeadon package to load the geometric measurements of the human. These are some typical measurments in meters from an adult rider for the Yeadon model (Chris's measurements). Note: these could and maybe should be loaded from the yeadon package."
     ]
    },
    {
     "cell_type": "code",
     "collapsed": false,
     "input": [
      "human = yeadon.Human('ChrisYeadonMeas.txt')"
     ],
     "language": "python",
     "metadata": {},
     "outputs": [],
     "prompt_number": 60
    },
    {
     "cell_type": "code",
     "collapsed": false,
     "input": [
      "for measurement in ['Lj3L', 'Lj5L', 'Lj6L', 'Ls4L', 'Ls4w', 'La2L', 'La4L', 'La5L']:\n",
      "    args.append(human.meas[measurement])\n",
      "n_somersault = 0.123918377 # radians\n",
      "args.append(n_somersault)"
     ],
     "language": "python",
     "metadata": {},
     "outputs": [],
     "prompt_number": 61
    },
    {
     "cell_type": "markdown",
     "metadata": {},
     "source": [
      "Now we must give initial guesses for all of the unknowns. These should be close to the correct solution. I've made educated guesses here, but there are some guessing functions in the current BicycleParameters source that do this better."
     ]
    },
    {
     "cell_type": "code",
     "collapsed": false,
     "input": [
      "g_PJ1elevation = -np.deg2rad(45.0)\n",
      "g_J1J2flexion = np.deg2rad(30.0)\n",
      "g_CA1elevation = -np.deg2rad(15.0)\n",
      "g_CA1abduction = np.deg2rad(2.0)\n",
      "g_CA1rotation = np.deg2rad(2.0)\n",
      "g_A1A2flexion = -np.deg2rad(40.0)\n",
      "g_ry = -n_LhbR * np.cos(np.deg2rad(30.0))\n",
      "g_rz = n_LhbR * np.sin(np.deg2rad(30.0))\n",
      "g_fy = n_LhbF * np.cos(np.deg2rad(45.0))\n",
      "g_fz = n_LhbF * np.cos(np.deg2rad(45.0))\n",
      "\n",
      "guess = [g_PJ1elevation, g_J1J2flexion, g_CA1elevation, g_CA1abduction, g_CA1rotation, g_A1A2flexion,\n",
      "         g_ry, g_rz, g_fy, g_fz]"
     ],
     "language": "python",
     "metadata": {},
     "outputs": [],
     "prompt_number": 62
    },
    {
     "cell_type": "markdown",
     "metadata": {},
     "source": [
      "Now use fsolve to home in on the exact solution."
     ]
    },
    {
     "cell_type": "code",
     "collapsed": false,
     "input": [
      "solution = fsolve(zero, guess, args)"
     ],
     "language": "python",
     "metadata": {},
     "outputs": [
      {
       "output_type": "stream",
       "stream": "stderr",
       "text": [
        "/usr/local/lib/python2.7/dist-packages/scipy/optimize/minpack.py:227: RuntimeWarning: The iteration is not making good progress, as measured by the \n",
        "  improvement from the last five Jacobian evaluations.\n",
        "  warnings.warn(msg, RuntimeWarning)\n"
       ]
      }
     ],
     "prompt_number": 63
    },
    {
     "cell_type": "markdown",
     "metadata": {},
     "source": [
      "These don't look like the best solutions for the legs, I must have an error."
     ]
    },
    {
     "cell_type": "code",
     "collapsed": false,
     "input": [
      "for s, v in zip(unknown_symbols, np.rad2deg(solution)):\n",
      "    print('{} {:1.2f}'.format(s, v))"
     ],
     "language": "python",
     "metadata": {},
     "outputs": [
      {
       "output_type": "stream",
       "stream": "stdout",
       "text": [
        "phi_J1 -110.74\n",
        "phi_J2 112.58\n",
        "phi_A1 -77.96\n",
        "theta_A1 -9.80\n",
        "psi_A 3.37\n",
        "phi_A2 -0.74\n",
        "r_y -4.51\n",
        "r_z 50.78\n",
        "f_y 58.95\n",
        "f_z 50.64\n"
       ]
      }
     ],
     "prompt_number": 77
    },
    {
     "cell_type": "heading",
     "level": 1,
     "metadata": {},
     "source": [
      "Configure the Yeadon model"
     ]
    },
    {
     "cell_type": "code",
     "collapsed": false,
     "input": [
      "cfg_dict = human.CFG"
     ],
     "language": "python",
     "metadata": {},
     "outputs": [],
     "prompt_number": 65
    },
    {
     "cell_type": "code",
     "collapsed": false,
     "input": [
      "# note: may be a sympy issue, standard dict prints as Latex representation, see https://github.com/sympy/sympy/issues/2672\n",
      "cfg_dict"
     ],
     "language": "python",
     "metadata": {},
     "outputs": [
      {
       "latex": [
        "$$\\begin{Bmatrix}A1A2flexion : 0.0, & B1B2flexion : 0.0, & CA1abduction : 0.0, & CA1elevation : 0.0, & CA1rotation : 0.0, & CB1abduction : 0.0, & CB1elevation : 0.0, & CB1rotation : 0.0, & J1J2flexion : 0.0, & K1K2flexion : 0.0, & PJ1abduction : 0.0, & PJ1flexion : 0.0, & PK1abduction : 0.0, & PK1flexion : 0.0, & PTfrontalFlexion : 0.0, & PTsagittalFlexion : 0.0, & TClateralSpinalFlexion : 0.0, & TCspinalTorsion : 0.0, & somersalt : 0.0, & tilt : 0.0, & twist : 0.0\\end{Bmatrix}$$"
       ],
       "metadata": {},
       "output_type": "pyout",
       "prompt_number": 66,
       "text": [
        "{A1A2flexion: 0.0, B1B2flexion: 0.0, CA1abduction: 0.0, CA1elevation: 0.0, CA1\n",
        "rotation: 0.0, CB1abduction: 0.0, CB1elevation: 0.0, CB1rotation: 0.0, J1J2fle\n",
        "xion: 0.0, K1K2flexion: 0.0, PJ1abduction: 0.0, PJ1flexion: 0.0, PK1abduction:\n",
        " 0.0, PK1flexion: 0.0, PTfrontalFlexion: 0.0, PTsagittalFlexion: 0.0, TClatera\n",
        "lSpinalFlexion: 0.0, TCspinalTorsion: 0.0, somersalt: 0.0, tilt: 0.0, twist: 0\n",
        ".0}"
       ]
      }
     ],
     "prompt_number": 66
    },
    {
     "cell_type": "markdown",
     "metadata": {},
     "source": [
      "https://github.com/chrisdembia/yeadon/issues/65 Notice that I have to use flexion here for PJ1 instead of elevation (the docs suggest differently)."
     ]
    },
    {
     "cell_type": "code",
     "collapsed": false,
     "input": [
      "cfg_dict['PJ1flexion'] = solution[0]\n",
      "cfg_dict['J1J2flexion'] = solution[1]\n",
      "cfg_dict['CA1elevation'] = solution[2]\n",
      "cfg_dict['CA1abduction'] = solution[3]\n",
      "cfg_dict['CA1rotation'] = solution[4]\n",
      "cfg_dict['A1A2flexion'] = solution[5]\n",
      "cfg_dict['somersalt'] = n_somersault"
     ],
     "language": "python",
     "metadata": {},
     "outputs": [],
     "prompt_number": 68
    },
    {
     "cell_type": "code",
     "collapsed": false,
     "input": [
      "cfg_dict"
     ],
     "language": "python",
     "metadata": {},
     "outputs": [
      {
       "latex": [
        "$$\\begin{Bmatrix}A1A2flexion : -0.0128915615768, & B1B2flexion : 0.0, & CA1abduction : -0.170977604168, & CA1elevation : -1.36072082876, & CA1rotation : 0.058866017682, & CB1abduction : 0.0, & CB1elevation : 0.0, & CB1rotation : 0.0, & J1J2flexion : 1.96487402668, & K1K2flexion : 0.0, & PJ1abduction : 0.0, & PJ1flexion : -1.93269216209, & PK1abduction : 0.0, & PK1flexion : 0.0, & PTfrontalFlexion : 0.0, & PTsagittalFlexion : 0.0, & TClateralSpinalFlexion : 0.0, & TCspinalTorsion : 0.0, & somersalt : 0.123918377, & tilt : 0.0, & twist : 0.0\\end{Bmatrix}$$"
       ],
       "metadata": {},
       "output_type": "pyout",
       "prompt_number": 69,
       "text": [
        "{A1A2flexion: -0.0128915615768, B1B2flexion: 0.0, CA1abduction: -0.17097760416\n",
        "8, CA1elevation: -1.36072082876, CA1rotation: 0.058866017682, CB1abduction: 0.\n",
        "0, CB1elevation: 0.0, CB1rotation: 0.0, J1J2flexion: 1.96487402668, K1K2flexio\n",
        "n: 0.0, PJ1abduction: 0.0, PJ1flexion: -1.93269216209, PK1abduction: 0.0, PK1f\n",
        "lexion: 0.0, PTfrontalFlexion: 0.0, PTsagittalFlexion: 0.0, TClateralSpinalFle\n",
        "xion: 0.0, TCspinalTorsion: 0.0, somersalt: 0.123918377, tilt: 0.0, twist: 0.0\n",
        "}"
       ]
      }
     ],
     "prompt_number": 69
    },
    {
     "cell_type": "markdown",
     "metadata": {},
     "source": [
      "The right side can just be a mirror of the left."
     ]
    },
    {
     "cell_type": "code",
     "collapsed": false,
     "input": [
      "cfg_dict['PK1flexion'] = cfg_dict['PJ1flexion']\n",
      "cfg_dict['K1K2flexion'] = cfg_dict['J1J2flexion']\n",
      "cfg_dict['CB1elevation'] = cfg_dict['CA1elevation'] \n",
      "cfg_dict['CB1abduction'] = -cfg_dict['CA1abduction']\n",
      "cfg_dict['CB1rotation'] = -cfg_dict['CA1rotation']\n",
      "cfg_dict['B1B2flexion'] = cfg_dict['A1A2flexion']"
     ],
     "language": "python",
     "metadata": {},
     "outputs": [],
     "prompt_number": 70
    },
    {
     "cell_type": "code",
     "collapsed": false,
     "input": [
      "cfg_dict"
     ],
     "language": "python",
     "metadata": {},
     "outputs": [
      {
       "latex": [
        "$$\\begin{Bmatrix}A1A2flexion : -0.0128915615768, & B1B2flexion : -0.0128915615768, & CA1abduction : -0.170977604168, & CA1elevation : -1.36072082876, & CA1rotation : 0.058866017682, & CB1abduction : 0.170977604168, & CB1elevation : -1.36072082876, & CB1rotation : -0.058866017682, & J1J2flexion : 1.96487402668, & K1K2flexion : 1.96487402668, & PJ1abduction : 0.0, & PJ1flexion : -1.93269216209, & PK1abduction : 0.0, & PK1flexion : -1.93269216209, & PTfrontalFlexion : 0.0, & PTsagittalFlexion : 0.0, & TClateralSpinalFlexion : 0.0, & TCspinalTorsion : 0.0, & somersalt : 0.123918377, & tilt : 0.0, & twist : 0.0\\end{Bmatrix}$$"
       ],
       "metadata": {},
       "output_type": "pyout",
       "prompt_number": 71,
       "text": [
        "{A1A2flexion: -0.0128915615768, B1B2flexion: -0.0128915615768, CA1abduction: -\n",
        "0.170977604168, CA1elevation: -1.36072082876, CA1rotation: 0.058866017682, CB1\n",
        "abduction: 0.170977604168, CB1elevation: -1.36072082876, CB1rotation: -0.05886\n",
        "6017682, J1J2flexion: 1.96487402668, K1K2flexion: 1.96487402668, PJ1abduction:\n",
        " 0.0, PJ1flexion: -1.93269216209, PK1abduction: 0.0, PK1flexion: -1.9326921620\n",
        "9, PTfrontalFlexion: 0.0, PTsagittalFlexion: 0.0, TClateralSpinalFlexion: 0.0,\n",
        " TCspinalTorsion: 0.0, somersalt: 0.123918377, tilt: 0.0, twist: 0.0}"
       ]
      }
     ],
     "prompt_number": 71
    },
    {
     "cell_type": "code",
     "collapsed": false,
     "input": [
      "human.set_CFG_dict(cfg_dict)"
     ],
     "language": "python",
     "metadata": {},
     "outputs": [
      {
       "output_type": "stream",
       "stream": "stdout",
       "text": [
        "Joint angle PJ1flexion = -0.615195022144 pi-rad is out of range. Must be between -0.5 and 0.5 pi-rad.\n",
        "Joint angle PK1flexion = -0.615195022144 pi-rad is out of range. Must be between -0.5 and 0.5 pi-rad.\n"
       ]
      }
     ],
     "prompt_number": 72
    },
    {
     "cell_type": "code",
     "collapsed": false,
     "input": [
      "human.draw()"
     ],
     "language": "python",
     "metadata": {},
     "outputs": [],
     "prompt_number": 73
    },
    {
     "cell_type": "code",
     "collapsed": false,
     "input": [
      "human.inertia"
     ],
     "language": "python",
     "metadata": {},
     "outputs": [
      {
       "metadata": {},
       "output_type": "pyout",
       "prompt_number": 74,
       "text": [
        "matrix([[  4.87581204e+00,   0.00000000e+00,  -1.38777878e-17],\n",
        "        [  0.00000000e+00,   4.02148455e+00,  -7.97857466e-01],\n",
        "        [ -1.38777878e-17,  -7.97857466e-01,   1.95185993e+00]])"
       ]
      }
     ],
     "prompt_number": 74
    },
    {
     "cell_type": "code",
     "collapsed": false,
     "input": [
      "human.center_of_mass"
     ],
     "language": "python",
     "metadata": {},
     "outputs": [
      {
       "metadata": {},
       "output_type": "pyout",
       "prompt_number": 75,
       "text": [
        "array([[ -9.53791842e-19],\n",
        "       [ -1.58951869e-01],\n",
        "       [  1.76828867e-01]])"
       ]
      }
     ],
     "prompt_number": 75
    },
    {
     "cell_type": "heading",
     "level": 1,
     "metadata": {},
     "source": [
      "Express inertia in bicycle reference frame"
     ]
    },
    {
     "cell_type": "markdown",
     "metadata": {},
     "source": [
      "Miejaard et. al 2007 use the SAE standard for defining the reference frame of a bicycle. The $\\hat{x}_b$ unit vector is directed from the back to the front of the bicycle, the $\\hat{y}_b$ is directed from the left side of the bicycle to the right side, and the $\\hat{z}_b$ is directed from top to bottom. So to rotate a reference frame relative to the Yeadon base reference frame into alignment with the bicycle reference frame, you first rotate through $\\pi$ about $\\hat{x}$ and then through $-\\frac{\\pi}{2}$ about $\\hat{z}$. The direction cosine matrix that transforms a vector in blank to a vector in blank is then: "
     ]
    },
    {
     "cell_type": "code",
     "collapsed": false,
     "input": [
      "from sympy import pi\n",
      "bicycle_rf = yeadon_rf.orientnew('B', 'Space', (pi, -pi / 2, 0), 'XZY')\n",
      "bicycle_rf.dcm(yeadon_rf)"
     ],
     "language": "python",
     "metadata": {},
     "outputs": [
      {
       "latex": [
        "$$\\left[\\begin{matrix}0 & -1 & 0\\\\-1 & 0 & 0\\\\0 & 0 & -1\\end{matrix}\\right]$$"
       ],
       "metadata": {},
       "output_type": "pyout",
       "png": "[encoded data removed]",
       "prompt_number": 86,
       "text": [
        "\u23a10   -1  0 \u23a4\n",
        "\u23a2          \u23a5\n",
        "\u23a2-1  0   0 \u23a5\n",
        "\u23a2          \u23a5\n",
        "\u23a30   0   -1\u23a6"
       ]
      }
     ],
     "prompt_number": 86
    },
    {
     "cell_type": "markdown",
     "metadata": {},
     "source": [
      "The inertia of the human about the human center of mass is then found by:\n",
      "\n",
      "TODO : Make sure I'm passing the correct rotation matrix in here, it could be the transpose, depending how things are defined."
     ]
    },
    {
     "cell_type": "code",
     "collapsed": false,
     "input": [
      "R = np.array([[0.0, -1.0, 0.0],\n",
      "              [-1.0, 0.0, 0.0],\n",
      "              [0.0, 0.0, -1.0]])\n",
      "human.inertia_transformed(rotmat=R)"
     ],
     "language": "python",
     "metadata": {},
     "outputs": [
      {
       "metadata": {},
       "output_type": "pyout",
       "prompt_number": 87,
       "text": [
        "matrix([[  4.02148455e+00,   0.00000000e+00,  -7.97857466e-01],\n",
        "        [  0.00000000e+00,   4.87581204e+00,  -1.38777878e-17],\n",
        "        [ -7.97857466e-01,  -1.38777878e-17,   1.95185993e+00]])"
       ]
      }
     ],
     "prompt_number": 87
    },
    {
     "cell_type": "markdown",
     "metadata": {},
     "source": [
      "The human center of mass position with respect to the bicycle seat is given in the bicycle frame coordinates is:"
     ]
    },
    {
     "cell_type": "code",
     "collapsed": false,
     "input": [
      "R.dot(human.center_of_mass)"
     ],
     "language": "python",
     "metadata": {},
     "outputs": [
      {
       "metadata": {},
       "output_type": "pyout",
       "prompt_number": 92,
       "text": [
        "array([[  1.58951869e-01],\n",
        "       [  9.53791842e-19],\n",
        "       [ -1.76828867e-01]])"
       ]
      }
     ],
     "prompt_number": 92
    },
    {
     "cell_type": "heading",
     "level": 1,
     "metadata": {},
     "source": [
      "Combine inertia with bicycle frame"
     ]
    },
    {
     "cell_type": "markdown",
     "metadata": {},
     "source": [
      "Now if we assume the human is rigidly affixed to the rear bicycle frame we can combine the inertia of the two rigid bodies into a single rigid body by using the parallel axis thereom. The inertial parameters of the "
     ]
    },
    {
     "cell_type": "code",
     "collapsed": false,
     "input": [
      "seat.pos_from(rear_wheel_center).express(bicycle_rf)"
     ],
     "language": "python",
     "metadata": {},
     "outputs": [
      {
       "metadata": {},
       "output_type": "pyout",
       "prompt_number": 95,
       "text": [
        "(-l_cs*sqrt(1 - (-h_bb + r_R)**2/l_cs**2) + (-l_sp - l_st)*cos(lambda_st))*B.x + (-h_bb + r_R + (-l_sp - l_st)*sin(lambda_st))*B.z"
       ]
      }
     ],
     "prompt_number": 95
    },
    {
     "cell_type": "code",
     "collapsed": false,
     "input": [],
     "language": "python",
     "metadata": {},
     "outputs": []
    }
   ],
   "metadata": {}
  }
 ]
}